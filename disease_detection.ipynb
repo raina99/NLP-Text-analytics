{
 "cells": [
  {
   "cell_type": "code",
   "execution_count": 2,
   "metadata": {
    "collapsed": true
   },
   "outputs": [],
   "source": [
    "import nltk\n",
    "import re\n",
    "\n",
    "\n",
    "        "
   ]
  },
  {
   "cell_type": "code",
   "execution_count": 4,
   "metadata": {
    "collapsed": true
   },
   "outputs": [],
   "source": [
    "# any unstructured text\n",
    "\n",
    "x = \"\"\"\n",
    "I am suffering from jaundice. and I heared 217 people died my cities recently\"\"\"\n"
   ]
  },
  {
   "cell_type": "code",
   "execution_count": 7,
   "metadata": {},
   "outputs": [
    {
     "data": {
      "text/plain": [
       "['\\nI am suffering from jaundice.',\n",
       " 'and I heared 217 people died my cities recently']"
      ]
     },
     "execution_count": 7,
     "metadata": {},
     "output_type": "execute_result"
    }
   ],
   "source": [
    "# Sentence tokenization\n",
    "y = nltk.sent_tokenize(x)\n",
    "y\n",
    "        "
   ]
  },
  {
   "cell_type": "code",
   "execution_count": 10,
   "metadata": {},
   "outputs": [
    {
     "data": {
      "text/plain": [
       "'\\ni am suffering from jaundice. and i heared 217 people died my cities recently'"
      ]
     },
     "execution_count": 10,
     "metadata": {},
     "output_type": "execute_result"
    }
   ],
   "source": [
    "# change to lowercase\n",
    "l=x.lower()\n",
    "l\n"
   ]
  },
  {
   "cell_type": "code",
   "execution_count": 12,
   "metadata": {
    "collapsed": true
   },
   "outputs": [],
   "source": [
    "\n",
    "# list of common diseases name\n",
    "list_pos = ['cholera','typhoid','hiv','malaria','dengue','jaundice','aids','leukemia','adhd','arthritis','asthma','autism spectrum disorder','asd','avian influenza','birth defects','cancer','chlamydia','chronic fatigue syndrome','chronic obstructive pulmonary disease ','copd','chikungunya','diabetes','ebola','ebola virus disease','epilepsy','fetal alcohol spectrum disorders','flu','influenza','genital herpes','herpes simplex virus','giardiasis','gonorrhea','heart disease','hepatitis',' hiv/aids','human papilloma virus','hpv','kidney disease','chronic kidney disease','meningitis','methicillin-resistant staphylococcus aureus','mrsa','microcephaly','middle east respiratory syndrome','mers','overweight and obesity','pollution','parasites – scabies','salmonella','sexually transmitted diseases','stds','stroke','traumatic brain injury ','tbi','trichomonas infection','trichomoniasis','tuberculosis ',' Water-related diseases','zika virus']\n",
    "\n"
   ]
  },
  {
   "cell_type": "code",
   "execution_count": 13,
   "metadata": {},
   "outputs": [
    {
     "name": "stdout",
     "output_type": "stream",
     "text": [
      "Name of the disease = jaundice\n",
      "and I heared 217 people died my cities recently\n"
     ]
    }
   ],
   "source": [
    "#using for loops to iterate over\n",
    "for i in range(len(list_pos)):\n",
    "    if list_pos[i] in l:\n",
    "        print(\"Name of the disease = \" +list_pos[i] )# print the disease name in article\n",
    "        for j in  y:\n",
    "            a = re.search(r'.*(killing|killed) ([0-9]{0,5}).*',j,re.IGNORECASE)\n",
    "            b = re.search(r'.*(death|deaths|died) (in|due|of).*',j,re.IGNORECASE) \n",
    "            c = re.search(r'.*([0-9]{0,2}) (hundred|thousand|crore|million|billion|people).*',j,re.IGNORECASE)\n",
    "            d = re.search(r'.*(hundreds|thousands|crores|millions|billions) (of).*',j,re.IGNORECASE)\n",
    "            e = re.search(r'.*(one|two|three|four|five|six|seven|eight|nine|ten|eleven|twelve|thirteen|forteen|fifteen|sixteen|seventeen|eihteen|ninteen|twenty|thirty|forty|fifty|sixty|seventy|eighty|ninty) (of|people) (people).*',j,re.IGNORECASE)\n",
    "            abc=[a,b,c,d]\n",
    "            for item in abc:\n",
    "                if item == None:\n",
    "                    pass\n",
    "                else:\n",
    "                    print(item[0])\n",
    "                    break\n",
    "                    \n",
    "            #print the sentence which contain these pattern \n",
    "    "
   ]
  }
 ],
 "metadata": {
  "kernelspec": {
   "display_name": "Python 3",
   "language": "python",
   "name": "python3"
  },
  "language_info": {
   "codemirror_mode": {
    "name": "ipython",
    "version": 3
   },
   "file_extension": ".py",
   "mimetype": "text/x-python",
   "name": "python",
   "nbconvert_exporter": "python",
   "pygments_lexer": "ipython3",
   "version": "3.6.1"
  }
 },
 "nbformat": 4,
 "nbformat_minor": 2
}
