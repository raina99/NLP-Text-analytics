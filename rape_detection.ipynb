{
 "cells": [
  {
   "cell_type": "code",
   "execution_count": 2,
   "metadata": {
    "collapsed": true
   },
   "outputs": [],
   "source": [
    "import nltk\n",
    "import re\n",
    "\n"
   ]
  },
  {
   "cell_type": "code",
   "execution_count": 9,
   "metadata": {
    "collapsed": true
   },
   "outputs": [],
   "source": [
    "# any unstructured text\n",
    "x = \"\"\"\n",
    "Two men raped an unconscious 30-year-old woman on a Harlem sidewalk in the middle of the day, police said Tuesday.\n",
    "The woman had apparently been drinking, and the suspects took advantage, a police source said.\n",
    "The shocking attack happened last Friday at about 4 p.m. on E. 126th St. between Park and Madison Aves.\n",
    "A witness saw Victor Lopez, 54, rape the woman while holding her against a gate, according to the criminal complaint.  His alleged accomplice, Angel Feliciano, 35, fondled the woman’s genitals during the rape, the complaint said.\n",
    "When police got there the woman “was unable to form complete sentences and she was unable to stand on her own,” the complaint said.\n",
    "Lopez, who is 5 feet 9 inches and 230 pounds, is being held on $50,000 bail. He has 29 prior arrests, including for burglary and drug possession, police sources said.\n",
    "His lawyer did not respond to a request for comment.  Feliciano, who is 5 feet 11 inches tall and weighs 280 pounds, is being held on $7,500 bail. He has 32 prior arrests, including for drug possession with intent to sell, burglary and menacing with a weapon, sources said. His lawyer had no comment.\n",
    "Residents on the block were stunned at the brazen nature of the attack.\n",
    "“It's unnerving because I live down the block and take this route a lot,\" said stay-at-home mom Felicia Buchanan, 50. “I feel bad for the person. I'm glad the men got caught.\n",
    "“Maybe they need more police presence here, even just during the day.\"\"\"\n"
   ]
  },
  {
   "cell_type": "code",
   "execution_count": 17,
   "metadata": {},
   "outputs": [
    {
     "data": {
      "text/plain": [
       "['\\nTwo men raped an unconscious 30-year-old woman on a Harlem sidewalk in the middle of the day, police said Tuesday.',\n",
       " 'The woman had apparently been drinking, and the suspects took advantage, a police source said.',\n",
       " 'The shocking attack happened last Friday at about 4 p.m. on E. 126th St. between Park and Madison Aves.',\n",
       " 'A witness saw Victor Lopez, 54, rape the woman while holding her against a gate, according to the criminal complaint.',\n",
       " 'His alleged accomplice, Angel Feliciano, 35, fondled the woman’s genitals during the rape, the complaint said.',\n",
       " 'When police got there the woman “was unable to form complete sentences and she was unable to stand on her own,” the complaint said.',\n",
       " 'Lopez, who is 5 feet 9 inches and 230 pounds, is being held on $50,000 bail.',\n",
       " 'He has 29 prior arrests, including for burglary and drug possession, police sources said.',\n",
       " 'His lawyer did not respond to a request for comment.',\n",
       " 'Feliciano, who is 5 feet 11 inches tall and weighs 280 pounds, is being held on $7,500 bail.',\n",
       " 'He has 32 prior arrests, including for drug possession with intent to sell, burglary and menacing with a weapon, sources said.',\n",
       " 'His lawyer had no comment.',\n",
       " 'Residents on the block were stunned at the brazen nature of the attack.',\n",
       " '“It\\'s unnerving because I live down the block and take this route a lot,\" said stay-at-home mom Felicia Buchanan, 50.',\n",
       " '“I feel bad for the person.',\n",
       " \"I'm glad the men got caught.\",\n",
       " '“Maybe they need more police presence here, even just during the day.']"
      ]
     },
     "execution_count": 17,
     "metadata": {},
     "output_type": "execute_result"
    }
   ],
   "source": [
    "# Sentence tokenization\n",
    "w2 = nltk.sent_tokenize(x)\n",
    "w2             "
   ]
  },
  {
   "cell_type": "code",
   "execution_count": 11,
   "metadata": {},
   "outputs": [
    {
     "data": {
      "text/plain": [
       "'\\ntwo men raped an unconscious 30-year-old woman on a harlem sidewalk in the middle of the day, police said tuesday.\\nthe woman had apparently been drinking, and the suspects took advantage, a police source said.\\nthe shocking attack happened last friday at about 4 p.m. on e. 126th st. between park and madison aves.\\na witness saw victor lopez, 54, rape the woman while holding her against a gate, according to the criminal complaint.  his alleged accomplice, angel feliciano, 35, fondled the woman’s genitals during the rape, the complaint said.\\nwhen police got there the woman “was unable to form complete sentences and she was unable to stand on her own,” the complaint said.\\nlopez, who is 5 feet 9 inches and 230 pounds, is being held on $50,000 bail. he has 29 prior arrests, including for burglary and drug possession, police sources said.\\nhis lawyer did not respond to a request for comment.  feliciano, who is 5 feet 11 inches tall and weighs 280 pounds, is being held on $7,500 bail. he has 32 prior arrests, including for drug possession with intent to sell, burglary and menacing with a weapon, sources said. his lawyer had no comment.\\nresidents on the block were stunned at the brazen nature of the attack.\\n“it\\'s unnerving because i live down the block and take this route a lot,\" said stay-at-home mom felicia buchanan, 50. “i feel bad for the person. i\\'m glad the men got caught.\\n“maybe they need more police presence here, even just during the day.'"
      ]
     },
     "execution_count": 11,
     "metadata": {},
     "output_type": "execute_result"
    }
   ],
   "source": [
    "# change to lowercase\n",
    "l=x.lower()\n",
    "l"
   ]
  },
  {
   "cell_type": "code",
   "execution_count": 13,
   "metadata": {},
   "outputs": [
    {
     "data": {
      "text/plain": [
       "'Two men raped unconscious 30-year-old woman Harlem sidewalk middle day, police said Tuesday. The woman apparently drinking, suspects took advantage, police source said. The shocking attack happened last Friday 4 p.m. E. 126th St. Park Madison Aves. A witness saw Victor Lopez, 54, rape woman holding gate, according criminal complaint. His alleged accomplice, Angel Feliciano, 35, fondled woman’s genitals rape, complaint said. When police got woman “was unable form complete sentences unable stand own,” complaint said. Lopez, 5 feet 9 inches 230 pounds, held $50,000 bail. He 29 prior arrests, including burglary drug possession, police sources said. His lawyer respond request comment. Feliciano, 5 feet 11 inches tall weighs 280 pounds, held $7,500 bail. He 32 prior arrests, including drug possession intent sell, burglary menacing weapon, sources said. His lawyer comment. Residents block stunned brazen nature attack. “It\\'s unnerving I live block take route lot,\" said stay-at-home mom Felicia Buchanan, 50. “I feel bad person. I\\'m glad men got caught. “Maybe need police presence here, even day.'"
      ]
     },
     "execution_count": 13,
     "metadata": {},
     "output_type": "execute_result"
    }
   ],
   "source": [
    "# Excludes Stopwords\n",
    "from nltk.corpus import stopwords \n",
    "# Excludes Stopwords and split\n",
    "text = ' '.join([word for word in x.split() if word not in (stopwords.words('english'))])\n",
    "\n",
    "text"
   ]
  },
  {
   "cell_type": "code",
   "execution_count": 15,
   "metadata": {
    "collapsed": true
   },
   "outputs": [],
   "source": [
    "# List of words generally used in Rape-news-article \n",
    "\n",
    "list_pos = ['raped','rape','rapes','raping','molest','molested','sexual harassment','sexually abussed','ravish','raping','abduction']\n",
    "                       \n"
   ]
  },
  {
   "cell_type": "code",
   "execution_count": 18,
   "metadata": {},
   "outputs": [
    {
     "name": "stdout",
     "output_type": "stream",
     "text": [
      "This News is about Rape\n",
      "Two men raped an unconscious 30-year-old woman on a Harlem sidewalk in the middle of the day, police said Tuesday.\n",
      "The shocking attack happened last Friday at about 4 p.m. on E. 126th St. between Park and Madison Aves.\n",
      "Lopez, who is 5 feet 9 inches and 230 pounds, is being held on $50,000 bail.\n",
      "Feliciano, who is 5 feet 11 inches tall and weighs 280 pounds, is being held on $7,500 bail.\n"
     ]
    }
   ],
   "source": [
    "# Using loop to iterate over\n",
    "\n",
    "for i in range(len(list_pos)):\n",
    "    if list_pos[i] in x:\n",
    "        print(\"This News is about Rape\")\n",
    "        for i in  w2:\n",
    "            m = re.search(r'.*(I|He|She) (is|am|woman|man|girl|boy|teenager|minor) ([0-9]{1,2}).*',i,re.IGNORECASE)\n",
    "            n = re.search(r'.*(I|He|She) (is|am) in (my|his|her) (late|mid|early)? ?(tens|twenties|thirties|forties|fifties|sixties|seventies|eighties|nineties|hundreds).*',i,re.IGNORECASE)\n",
    "            o = re.search(r'.*(I|He|She) (is|am|the|was) (twenty|thirty|forty|fifty|sixty|seventy|eighty|ninety|one|two|three|four|five|six|seven|eight|nine|ten|eleven|twelve|thirteen|fourteen|fifteen|sixteen|seventeen|eighteen|nineteen) ?(one|two|three|four|five|six|seven|eight|nine)?.*',i,re.IGNORECASE)\n",
    "            p = re.search(r'.*(age|is|@|was|of|about) ([0-9]{1,2}).*',i,re.IGNORECASE)\n",
    "            q = re.search(r'.*(age|is|@|was) (twenty|thirty|forty|fifty|sixty|seventy|eighty|ninety|one|two|three|four|five|six|seven|eight|nine|ten|eleven|twelve|thirteen|fourteen|fifteen|sixteen|seventeen|eighteen|nineteen) ?(one|two|three|four|five|six|seven|eight|nine)?.*',i,re.IGNORECASE)\n",
    "            r = re.search(r'.*([0-9]{2}) (yrs|years|year).*',i,re.IGNORECASE)\n",
    "            s = re.search(r'.*(twenty|thirty|forty|fifty|sixty|seventy|eighty|ninety|one|two|three|four|five|six|seven|eight|nine|ten|eleven|twelve|thirteen|fourteen|fifteen|sixteen|seventeen|eighteen|nineteen) ?(one|two|three|four|five|six|seven|eight|nine)? (yrs|years).*',i,re.IGNORECASE)\n",
    "            t = re.search(r'.*(early|late) ([0-9]{2}).*',i,re.IGNORECASE)\n",
    "            u = re.search(r'.*(victim|sufferer|wounded person) ([0-9]{2}).*',i,re.IGNORECASE)\n",
    "            v = re.search(r'.*([0-9]{2})([-])(yrs|years|year)([-]).*',i,re.IGNORECASE) \n",
    "            w = re.search(r'.*(woman|man|girl|boy|teenager|minor)(,)([0-9]{1,2}).*',i,re.IGNORECASE)\n",
    "            x1 = re.search(r'.*(0[1-9]|1[012])[- /.](0[1-9]|[12][0-9]|3[01])[- /.](19|20).*',i,re.IGNORECASE)\n",
    "            y = re.search(r'.*(0[1-9]|[12][0-9]|3[01])[- /.](0[1-9]|1[012])[- /.](19|20).*',i,re.IGNORECASE)\n",
    "            z = re.search(r'.*${jan:+January}${feb:+February}${mar:+March}${apr:+April}${may:+May}${jun:+June}${jul:+July}${aug:+August}${sep:+September}${oct:+October}${nov:+November}${dec:+December} ${1st:+${1st}st}${2nd:+${2nd}nd}${3rd:+${3rd}rd}${nth:+${nth}th}, ${19xx:+19${19xx}}${20xx:+20${20xx}}.*',i,re.IGNORECASE)\n",
    "            abc=[m,n,o,p,q,r,s,t,u,v,w,x1,y,z]# Pattern matching re\n",
    "            for item in abc:\n",
    "                if item == None:\n",
    "                    pass\n",
    "                else:\n",
    "                    print(item[0])\n",
    "                    break\n",
    "                    # takes the sentence contain above pattern\n",
    "    else:\n",
    "        print(\"This News is Not about Rape\")\n",
    "    break\n",
    "\n",
    "\n"
   ]
  }
 ],
 "metadata": {
  "kernelspec": {
   "display_name": "Python 3",
   "language": "python",
   "name": "python3"
  },
  "language_info": {
   "codemirror_mode": {
    "name": "ipython",
    "version": 3
   },
   "file_extension": ".py",
   "mimetype": "text/x-python",
   "name": "python",
   "nbconvert_exporter": "python",
   "pygments_lexer": "ipython3",
   "version": "3.6.1"
  }
 },
 "nbformat": 4,
 "nbformat_minor": 2
}
